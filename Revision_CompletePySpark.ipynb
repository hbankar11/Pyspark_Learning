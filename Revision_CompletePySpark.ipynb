{
  "nbformat": 4,
  "nbformat_minor": 0,
  "metadata": {
    "colab": {
      "provenance": [],
      "authorship_tag": "ABX9TyO51bg4BQioljRaCY3Db63I",
      "include_colab_link": true
    },
    "kernelspec": {
      "name": "python3",
      "display_name": "Python 3"
    },
    "language_info": {
      "name": "python"
    }
  },
  "cells": [
    {
      "cell_type": "markdown",
      "metadata": {
        "id": "view-in-github",
        "colab_type": "text"
      },
      "source": [
        "<a href=\"https://colab.research.google.com/github/hbankar11/Pyspark_Learning/blob/main/Revision_CompletePySpark.ipynb\" target=\"_parent\"><img src=\"https://colab.research.google.com/assets/colab-badge.svg\" alt=\"Open In Colab\"/></a>"
      ]
    },
    {
      "cell_type": "code",
      "execution_count": 1,
      "metadata": {
        "colab": {
          "base_uri": "https://localhost:8080/"
        },
        "id": "BZIt4i3jfS1Z",
        "outputId": "d84afdcb-8545-41f8-c2cd-b0752b15934a"
      },
      "outputs": [
        {
          "output_type": "stream",
          "name": "stdout",
          "text": [
            "Requirement already satisfied: pyspark in /usr/local/lib/python3.12/dist-packages (3.5.1)\n",
            "Requirement already satisfied: py4j==0.10.9.7 in /usr/local/lib/python3.12/dist-packages (from pyspark) (0.10.9.7)\n"
          ]
        }
      ],
      "source": [
        "!pip install pyspark"
      ]
    },
    {
      "cell_type": "code",
      "source": [
        "#Just Checking PySpark is Installed or not\n",
        "from pyspark.sql import SparkSession"
      ],
      "metadata": {
        "id": "BUUaHRD0f4kK"
      },
      "execution_count": 2,
      "outputs": []
    },
    {
      "cell_type": "code",
      "source": [
        "#Creating Spark Session\n",
        "spark_session = SparkSession.builder.appName(\"Revision_CompletePySpark\").getOrCreate()"
      ],
      "metadata": {
        "id": "g_Iw0d7YhhPM"
      },
      "execution_count": 3,
      "outputs": []
    },
    {
      "cell_type": "code",
      "source": [
        "#Create SparkContext in PySpark\n",
        "from pyspark.sql import SparkSession\n",
        "\n",
        "spark_session = SparkSession.builder.appName(\"Revision_PySpark\").getOrCreate()\n",
        "print(spark_session.sparkContext)\n",
        "print(\"Spark App Name : \" + spark_session.sparkContext.appName)"
      ],
      "metadata": {
        "id": "HmUp0sLlh-vJ",
        "colab": {
          "base_uri": "https://localhost:8080/"
        },
        "outputId": "c83ed121-a580-4286-8931-525515afe439"
      },
      "execution_count": 4,
      "outputs": [
        {
          "output_type": "stream",
          "name": "stdout",
          "text": [
            "<SparkContext master=local[*] appName=Revision_CompletePySpark>\n",
            "Spark App Name : Revision_CompletePySpark\n"
          ]
        }
      ]
    },
    {
      "cell_type": "code",
      "source": [
        "#Stop PySpark SparkContext\n",
        "#When PySpark executes this statement, it logs the message INFO SparkContext: Successfully stopped SparkContext to console or to a log file.\n",
        "spark_session.sparkContext.stop()"
      ],
      "metadata": {
        "id": "Dty405JtkM15"
      },
      "execution_count": null,
      "outputs": []
    },
    {
      "cell_type": "code",
      "source": [
        "#Create RDD using parallelize\n",
        "data = [1,2,3,4,5,6,7,8,9,10]\n",
        "rdd = spark_session.sparkContext.parallelize(data)\n",
        "rdd.collect()"
      ],
      "metadata": {
        "colab": {
          "base_uri": "https://localhost:8080/"
        },
        "id": "9wTnOT6Ym6wg",
        "outputId": "104a80c6-7488-4b6b-d502-a91f9c3fc81d"
      },
      "execution_count": 9,
      "outputs": [
        {
          "output_type": "execute_result",
          "data": {
            "text/plain": [
              "[1, 2, 3, 4, 5, 6, 7, 8, 9, 10]"
            ]
          },
          "metadata": {},
          "execution_count": 9
        }
      ]
    },
    {
      "cell_type": "code",
      "source": [
        "#create RDD using sparkContext.textFile()\n",
        "rdd2 = spark_session.sparkContext.textFile(\"/path/textFile.txt\")\n"
      ],
      "metadata": {
        "id": "nFnL_J1WpXsA"
      },
      "execution_count": null,
      "outputs": []
    },
    {
      "cell_type": "code",
      "source": [
        "#create RDD using sparkContext.wholeTextFiles()\n",
        "rdd3 = spark_session.sparkContext.wholeTextFiles(\"<path>\")"
      ],
      "metadata": {
        "id": "0w6uNPCwpnNZ"
      },
      "execution_count": null,
      "outputs": []
    },
    {
      "cell_type": "code",
      "source": [
        "#Create empty RDD using sparkContext.emptyRDD\n",
        "emptyRDD = spark_session.sparkContext.emptyRDD"
      ],
      "metadata": {
        "id": "oIy_Ycamp4D-"
      },
      "execution_count": null,
      "outputs": []
    },
    {
      "cell_type": "code",
      "source": [
        "#Creating empty RDD with partition\n",
        "emptyRDDPartition = spark_session.sparkContext.parallelize([],10)"
      ],
      "metadata": {
        "id": "-6c-4qsPqXEj"
      },
      "execution_count": null,
      "outputs": []
    },
    {
      "cell_type": "code",
      "source": [
        "#RDD Partitions\n",
        "#Get Partition count\n",
        "print(\"Initial partition count : \" + str(rdd.getNumPartitions()))"
      ],
      "metadata": {
        "colab": {
          "base_uri": "https://localhost:8080/"
        },
        "id": "Nwn4nQlOqmVY",
        "outputId": "409f2349-5764-4c3c-c5a5-dcb750865adb"
      },
      "execution_count": null,
      "outputs": [
        {
          "output_type": "stream",
          "name": "stdout",
          "text": [
            "Initial partition count : 2\n"
          ]
        }
      ]
    },
    {
      "cell_type": "code",
      "source": [
        "#Set partition Manually\n",
        "rddPartition = spark_session.sparkContext.parallelize([1,2,3],10)\n",
        "rddPartition.collect()\n",
        "rddPartition.getNumPartitions() #10\n"
      ],
      "metadata": {
        "colab": {
          "base_uri": "https://localhost:8080/"
        },
        "id": "ctD_mX26rPoy",
        "outputId": "b1f51a7f-e392-4fec-8f1b-52d523949c0f"
      },
      "execution_count": null,
      "outputs": [
        {
          "output_type": "execute_result",
          "data": {
            "text/plain": [
              "10"
            ]
          },
          "metadata": {},
          "execution_count": 20
        }
      ]
    },
    {
      "cell_type": "code",
      "source": [
        "#Repartition and coalesce\n",
        "reparRdd = rdd.repartition(4)\n",
        "#print(\"re-partition count : \"+str(reparRdd.getNumPartitions()))\n",
        "print(\"re-partition count:\"+str(reparRdd.getNumPartitions()))\n",
        "\n",
        "coalRdd = rdd.coalesce(2)\n",
        "print(\"coalesce count:\"+str(coalRdd.getNumPartitions()))"
      ],
      "metadata": {
        "colab": {
          "base_uri": "https://localhost:8080/"
        },
        "id": "zk8dgIshSa4W",
        "outputId": "f70892c0-0a1f-49ab-a643-0411be0b0243"
      },
      "execution_count": 12,
      "outputs": [
        {
          "output_type": "stream",
          "name": "stdout",
          "text": [
            "re-partition count:4\n",
            "coalesce count:2\n"
          ]
        }
      ]
    },
    {
      "cell_type": "code",
      "source": [
        "#flatMap() : flattens all those sequences into a single RDD\n",
        "rdd2 = rdd.flatMap(lambda x: x.split(\" \"))\n"
      ],
      "metadata": {
        "id": "Zr4gIMaGTdFT"
      },
      "execution_count": null,
      "outputs": []
    },
    {
      "cell_type": "code",
      "source": [
        "#map() : It allows you to apply a function to each element of an RDD, producing a new RDD with the transformed elements.\n",
        "# Add a new element with value 1 to each word\n",
        "rdd3 = rdd2.map(lambda x: (x,1))\n"
      ],
      "metadata": {
        "id": "3z6iIsBZUila"
      },
      "execution_count": null,
      "outputs": []
    },
    {
      "cell_type": "code",
      "source": [
        "#reduceByKey() : combines the values associated with each key using the provided function.\n",
        "rdd4 = rdd3.reduceByKey(lambda a,b: a+b)\n"
      ],
      "metadata": {
        "id": "cswM5wAoVVkJ"
      },
      "execution_count": null,
      "outputs": []
    },
    {
      "cell_type": "code",
      "source": [
        "#sortByKey() : transformation arranges the elements of an RDD based on their keys.\n",
        "# Using sortByKey()\n",
        "rdd5 = rdd4.map(lambda x: (x[1],x[0])).sortByKey()\n",
        "\n",
        "# Print rdd5 result to console\n",
        "print(rdd5.collect())"
      ],
      "metadata": {
        "id": "gbdwKcbUWsy3"
      },
      "execution_count": null,
      "outputs": []
    },
    {
      "cell_type": "code",
      "source": [
        "#RDD action:\n",
        "#1: count() => Returns the number of records in an RDD\n",
        "print(\"Count : \"+str(rdd.count()))\n",
        "\n",
        "#2: first() => Returns the first record.\n",
        "firstRec = rdd.first()\n",
        "print(\"First Record : \"+str(firstRec))\n",
        "\n",
        "#3:max() => Returns maximum record\n",
        "datMax = rdd.max()\n",
        "print(\"Maximum Record : \"+str(datMax))\n",
        "\n",
        "#4: reduce() => Reduces the records to single, we can use this to count or sum.\n",
        "#totalWordCount = rdd.reduce(lambda a,b: (a[0]+b[0],a[1]))\n",
        "#print(\"dataReduce Record : \"+str(totalWordCount[0]))\n",
        "\n",
        "#5: take() =>  Returns the record specified as an argument.\n",
        "data = rdd.take(3)\n",
        "print(\"Element at position 3 :\"+str(data))\n",
        "\n",
        "#6: saveAsTextFile() => Using saveAsTestFile action, we can write the RDD to a text file.\n",
        "rdd.saveAsTextFile(\"/tmp/wordCount\")\n"
      ],
      "metadata": {
        "colab": {
          "base_uri": "https://localhost:8080/"
        },
        "id": "qF67bdw-XsG1",
        "outputId": "f46739fd-6f14-4955-a9f4-2de587a01c04"
      },
      "execution_count": 17,
      "outputs": [
        {
          "output_type": "stream",
          "name": "stdout",
          "text": [
            "Count : 10\n",
            "First Record : 1\n",
            "Maximum Record : 10\n",
            "Element at position 3 :[1, 2, 3]\n"
          ]
        }
      ]
    },
    {
      "cell_type": "code",
      "source": [
        "#Creating RDD from DataFrame and vice-versa\n",
        "# Converts RDD to DataFrame\n",
        "dfFromRDD1 = rdd.toDF()\n",
        "\n",
        "# Converts RDD to DataFrame with column names\n",
        "dfFromRDD2 = rdd.toDF(\"col1\",\"col2\")\n",
        "\n",
        "# using createDataFrame() - Convert DataFrame to RDD\n",
        "df = spark_session.createDataFrame(rdd).toDF(\"col1\",\"col2\")\n",
        "\n",
        "# Convert DataFrame to RDD\n",
        "rdd = df.rdd\n"
      ],
      "metadata": {
        "id": "4yOGdCw6fwZf"
      },
      "execution_count": null,
      "outputs": []
    },
    {
      "cell_type": "code",
      "source": [],
      "metadata": {
        "id": "DFUIqbtsgJp1"
      },
      "execution_count": null,
      "outputs": []
    }
  ]
}